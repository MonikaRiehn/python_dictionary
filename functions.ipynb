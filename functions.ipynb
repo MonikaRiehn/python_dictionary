{
 "cells": [
  {
   "cell_type": "markdown",
   "id": "1a1eb4da",
   "metadata": {},
   "source": [
    "# built-in functions"
   ]
  },
  {
   "cell_type": "code",
   "execution_count": 1,
   "id": "26933332",
   "metadata": {},
   "outputs": [
    {
     "name": "stdout",
     "output_type": "stream",
     "text": [
      "Hello\n",
      "Mom\n",
      "oops\n",
      "Hello\n",
      "Mom\n"
     ]
    }
   ],
   "source": [
    "# function stores and reuses code. it takes some input, runs the steps in the function\n",
    "# and produces an output\n",
    "def thing():\n",
    "    print('Hello')\n",
    "    print('Mom')\n",
    "thing()\n",
    "print('oops')\n",
    "thing()"
   ]
  },
  {
   "cell_type": "code",
   "execution_count": 2,
   "id": "183f8b97",
   "metadata": {},
   "outputs": [],
   "source": [
    "# built-in functions come with python: input(), type(), float(), inter()\n",
    "# function we define ourselves\n",
    "# assignment = function('argument')"
   ]
  },
  {
   "cell_type": "code",
   "execution_count": 4,
   "id": "738d4e12",
   "metadata": {},
   "outputs": [
    {
     "name": "stdout",
     "output_type": "stream",
     "text": [
      "w\n",
      " \n"
     ]
    }
   ],
   "source": [
    "# max function prints highest value, in this case biggest letter in the string\n",
    "big = max('Hello world')\n",
    "print(big)\n",
    "\n",
    "# min function returns lowest value (here blank)\n",
    "tiny = min('Hello world')\n",
    "print(tiny)"
   ]
  },
  {
   "cell_type": "code",
   "execution_count": 7,
   "id": "040387bc",
   "metadata": {},
   "outputs": [
    {
     "name": "stdout",
     "output_type": "stream",
     "text": [
      "0.99\n"
     ]
    }
   ],
   "source": [
    "# type conversions are functions: int() and float()\n",
    "print(float(99)/100)"
   ]
  },
  {
   "cell_type": "code",
   "execution_count": 8,
   "id": "a5ccbf71",
   "metadata": {},
   "outputs": [
    {
     "data": {
      "text/plain": [
       "int"
      ]
     },
     "execution_count": 8,
     "metadata": {},
     "output_type": "execute_result"
    }
   ],
   "source": [
    "i = 46\n",
    "type(i)"
   ]
  },
  {
   "cell_type": "code",
   "execution_count": 9,
   "id": "72a3de18",
   "metadata": {},
   "outputs": [
    {
     "name": "stdout",
     "output_type": "stream",
     "text": [
      "46.0\n"
     ]
    }
   ],
   "source": [
    "f = float(i)\n",
    "print(f)"
   ]
  },
  {
   "cell_type": "code",
   "execution_count": 10,
   "id": "fea12231",
   "metadata": {},
   "outputs": [
    {
     "data": {
      "text/plain": [
       "float"
      ]
     },
     "execution_count": 10,
     "metadata": {},
     "output_type": "execute_result"
    }
   ],
   "source": [
    "type(f)"
   ]
  },
  {
   "cell_type": "code",
   "execution_count": 12,
   "id": "cbddcb11",
   "metadata": {},
   "outputs": [
    {
     "name": "stdout",
     "output_type": "stream",
     "text": [
      "-2.5\n"
     ]
    }
   ],
   "source": [
    "print(1 + 2 * float(3) / 4 - 5)"
   ]
  },
  {
   "cell_type": "code",
   "execution_count": 14,
   "id": "82e24f51",
   "metadata": {},
   "outputs": [
    {
     "data": {
      "text/plain": [
       "str"
      ]
     },
     "execution_count": 14,
     "metadata": {},
     "output_type": "execute_result"
    }
   ],
   "source": [
    "# string conversions:\n",
    "sval = '123'\n",
    "type(sval)"
   ]
  },
  {
   "cell_type": "code",
   "execution_count": 18,
   "id": "60b420b4",
   "metadata": {},
   "outputs": [
    {
     "name": "stdout",
     "output_type": "stream",
     "text": [
      "<class 'int'>\n",
      "124\n"
     ]
    }
   ],
   "source": [
    "ival = int(sval)\n",
    "print(type(ival))\n",
    "print(ival+1)"
   ]
  },
  {
   "cell_type": "markdown",
   "id": "a21051d8",
   "metadata": {},
   "source": [
    "# create our own functions"
   ]
  },
  {
   "cell_type": "code",
   "execution_count": 21,
   "id": "b50babd1",
   "metadata": {},
   "outputs": [
    {
     "name": "stdout",
     "output_type": "stream",
     "text": [
      "Dachshund\n",
      "Pitbull\n"
     ]
    }
   ],
   "source": [
    "# def: store\n",
    "def print_dogs ():\n",
    "    print('Dachshund')\n",
    "    print('Pitbull')\n",
    "# invoke: call\n",
    "print_dogs()"
   ]
  },
  {
   "cell_type": "code",
   "execution_count": 22,
   "id": "f4dd2314",
   "metadata": {},
   "outputs": [],
   "source": [
    "# argument: value we pass into the function as its input when calling function\n",
    "# enables function to do different kinds of work\n",
    "# place in () after name of function\n",
    "# big = max ('Hello World')"
   ]
  },
  {
   "cell_type": "code",
   "execution_count": 24,
   "id": "abfe70db",
   "metadata": {},
   "outputs": [],
   "source": [
    "# PARAMETERS\n",
    "# variable used in the function definition\n",
    "# placeholder/handle that allows code in function to access arguments for\n",
    "# particular function invocation\n",
    "# parameter here is (lang). like a container/alias for later input.\n",
    "def greet(lang):\n",
    "    if lang == 'es':\n",
    "        print('Hola')\n",
    "    elif lang == 'fr':\n",
    "        print('Bonjour')\n",
    "    else:\n",
    "        print('Hello')"
   ]
  },
  {
   "cell_type": "code",
   "execution_count": 25,
   "id": "e0255652",
   "metadata": {},
   "outputs": [
    {
     "name": "stdout",
     "output_type": "stream",
     "text": [
      "Hello\n"
     ]
    }
   ],
   "source": [
    "greet('en')"
   ]
  },
  {
   "cell_type": "code",
   "execution_count": 26,
   "id": "c98348dc",
   "metadata": {},
   "outputs": [
    {
     "name": "stdout",
     "output_type": "stream",
     "text": [
      "Bonjour\n"
     ]
    }
   ],
   "source": [
    "greet('fr')"
   ]
  },
  {
   "cell_type": "code",
   "execution_count": 27,
   "id": "d38c1c2a",
   "metadata": {},
   "outputs": [
    {
     "name": "stdout",
     "output_type": "stream",
     "text": [
      "Hola\n"
     ]
    }
   ],
   "source": [
    "greet('es')"
   ]
  },
  {
   "cell_type": "code",
   "execution_count": 28,
   "id": "13e81c19",
   "metadata": {},
   "outputs": [
    {
     "name": "stdout",
     "output_type": "stream",
     "text": [
      "Hello Mom\n",
      "Hello Dad\n"
     ]
    }
   ],
   "source": [
    "# RETURN VALUES\n",
    "# \"return\" keyword: function takes its arguments, computes something and returns a value\n",
    "# to be used as value of the function call in the calling expression.\n",
    "def greet():\n",
    "    return 'Hello'\n",
    "print(greet(), 'Mom')\n",
    "print(greet(), 'Dad')"
   ]
  },
  {
   "cell_type": "code",
   "execution_count": 29,
   "id": "84af7d88",
   "metadata": {},
   "outputs": [],
   "source": [
    "def greet(lang):\n",
    "    if lang == 'es':\n",
    "        return 'Hola'\n",
    "    elif lang == 'fr':\n",
    "        return 'Bonjour'\n",
    "    else:\n",
    "        return 'Hello'"
   ]
  },
  {
   "cell_type": "code",
   "execution_count": 32,
   "id": "5e42fa02",
   "metadata": {},
   "outputs": [
    {
     "name": "stdout",
     "output_type": "stream",
     "text": [
      "Hello Mom\n",
      "Bonjour Croissant\n",
      "Hola Espanol\n"
     ]
    }
   ],
   "source": [
    "print(greet('en'), 'Mom')\n",
    "print(greet('fr'), 'Croissant')\n",
    "print(greet('es'), 'Espanol')"
   ]
  },
  {
   "cell_type": "code",
   "execution_count": 34,
   "id": "8fe948f6",
   "metadata": {},
   "outputs": [
    {
     "name": "stdout",
     "output_type": "stream",
     "text": [
      "7\n"
     ]
    }
   ],
   "source": [
    "# multiple parameters/arguments\n",
    "def addtwo(a,b):\n",
    "    added = a + b\n",
    "    return added\n",
    "x = addtwo(4,3)\n",
    "print(x)"
   ]
  },
  {
   "cell_type": "markdown",
   "id": "fd8daadc",
   "metadata": {},
   "source": [
    "# Exercise\n",
    "Code from last exercise:"
   ]
  },
  {
   "cell_type": "code",
   "execution_count": 39,
   "id": "ec7cbfa6",
   "metadata": {},
   "outputs": [
    {
     "name": "stdout",
     "output_type": "stream",
     "text": [
      "Enter hours: 54\n",
      "Enter rate: 11\n",
      "Overtime\n",
      "regular payment + 594.0 + overtime payment 77.0\n",
      "Pay: 671.0\n"
     ]
    }
   ],
   "source": [
    "sh = input('Enter hours: ')\n",
    "sr = input('Enter rate: ')\n",
    "\n",
    "try:\n",
    "    fh = float(sh) #DANGER ZONE\n",
    "    fr = float(sr) #DANGER ZONE\n",
    "except:\n",
    "    print('Error, please enter a numeric input!')\n",
    "    quit() # do not continue!\n",
    "  \n",
    "if fh > 40:\n",
    "    print('Overtime')\n",
    "    reg = fr * fh\n",
    "    otp = (fh - 40) * (fr * 0.5)\n",
    "    print(f'regular payment + {reg} + overtime payment {otp}')\n",
    "    xp = reg + otp\n",
    "else:\n",
    "    print('Regular')\n",
    "    xp = fh * fr\n",
    "\n",
    "print(f'Pay: {xp}')"
   ]
  },
  {
   "cell_type": "markdown",
   "id": "009e3710",
   "metadata": {},
   "source": [
    "This time with a function:"
   ]
  },
  {
   "cell_type": "code",
   "execution_count": 47,
   "id": "1c6f8fc0",
   "metadata": {},
   "outputs": [
    {
     "name": "stdout",
     "output_type": "stream",
     "text": [
      "Enter hours: 54\n",
      "Enter rate: 10\n",
      "Overtime\n",
      "Pay:  610.0\n"
     ]
    }
   ],
   "source": [
    "def computepay(hours, rate):\n",
    "    if hours > 40:\n",
    "        print('Overtime')\n",
    "        reg = rate * hours\n",
    "        otp = (hours - 40) * (rate * 0.5)\n",
    "        pay = reg + otp\n",
    "    else:\n",
    "        print('Regular')\n",
    "        pay = hours * rate\n",
    "    return pay\n",
    "# \"return\" is the result/value of what the function has computed with the parameters.\n",
    "# when funcion is called later, the \"return\"-value is assigned to the variable, which is\n",
    "# to be printed at the end.\n",
    "\n",
    "sh = input('Enter hours: ')\n",
    "sr = input('Enter rate: ')\n",
    "\n",
    "try:\n",
    "    fh = float(sh) #DANGER ZONE\n",
    "    fr = float(sr) #DANGER ZONE\n",
    "except:\n",
    "    print('Error, please enter a numeric input!')\n",
    "    quit()\n",
    "\n",
    "# sends back fh and fr to function above and computes them as hours and rates.\n",
    "# the value of the \"return pay\" is then assigned to xp.\n",
    "xp = computepay(fh, fr)\n",
    "\n",
    "print('Pay: ', xp)"
   ]
  },
  {
   "cell_type": "code",
   "execution_count": null,
   "id": "8c78809c",
   "metadata": {},
   "outputs": [],
   "source": []
  }
 ],
 "metadata": {
  "kernelspec": {
   "display_name": "Python 3 (ipykernel)",
   "language": "python",
   "name": "python3"
  },
  "language_info": {
   "codemirror_mode": {
    "name": "ipython",
    "version": 3
   },
   "file_extension": ".py",
   "mimetype": "text/x-python",
   "name": "python",
   "nbconvert_exporter": "python",
   "pygments_lexer": "ipython3",
   "version": "3.10.6"
  }
 },
 "nbformat": 4,
 "nbformat_minor": 5
}
