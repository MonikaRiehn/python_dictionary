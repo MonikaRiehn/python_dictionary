{
 "cells": [
  {
   "cell_type": "markdown",
   "id": "b27fbee8",
   "metadata": {},
   "source": [
    "# built-in functions"
   ]
  },
  {
   "cell_type": "code",
   "execution_count": 1,
   "id": "e2904b5e",
   "metadata": {},
   "outputs": [
    {
     "name": "stdout",
     "output_type": "stream",
     "text": [
      "Hello\n",
      "Mom\n",
      "oops\n",
      "Hello\n",
      "Mom\n"
     ]
    }
   ],
   "source": [
    "# function stores and reuses code. it takes some input, runs the steps in the function\n",
    "# and produces an output\n",
    "def thing():\n",
    "    print('Hello')\n",
    "    print('Mom')\n",
    "thing()\n",
    "print('oops')\n",
    "thing()"
   ]
  },
  {
   "cell_type": "code",
   "execution_count": 2,
   "id": "c9b14538",
   "metadata": {},
   "outputs": [],
   "source": [
    "# built-in functions come with python: input(), type(), float(), inter()\n",
    "# function we define ourselves\n",
    "# assignment = function('argument')"
   ]
  },
  {
   "cell_type": "code",
   "execution_count": 4,
   "id": "d24be1ee",
   "metadata": {},
   "outputs": [
    {
     "name": "stdout",
     "output_type": "stream",
     "text": [
      "w\n",
      " \n"
     ]
    }
   ],
   "source": [
    "# max function prints highest value, in this case biggest letter in the string\n",
    "big = max('Hello world')\n",
    "print(big)\n",
    "\n",
    "# min function returns lowest value (here blank)\n",
    "tiny = min('Hello world')\n",
    "print(tiny)"
   ]
  },
  {
   "cell_type": "code",
   "execution_count": 7,
   "id": "24aaf62c",
   "metadata": {},
   "outputs": [
    {
     "name": "stdout",
     "output_type": "stream",
     "text": [
      "0.99\n"
     ]
    }
   ],
   "source": [
    "# type conversions are functions: int() and float()\n",
    "print(float(99)/100)"
   ]
  },
  {
   "cell_type": "code",
   "execution_count": 8,
   "id": "154aad2a",
   "metadata": {},
   "outputs": [
    {
     "data": {
      "text/plain": [
       "int"
      ]
     },
     "execution_count": 8,
     "metadata": {},
     "output_type": "execute_result"
    }
   ],
   "source": [
    "i = 46\n",
    "type(i)"
   ]
  },
  {
   "cell_type": "code",
   "execution_count": 9,
   "id": "b420d328",
   "metadata": {},
   "outputs": [
    {
     "name": "stdout",
     "output_type": "stream",
     "text": [
      "46.0\n"
     ]
    }
   ],
   "source": [
    "f = float(i)\n",
    "print(f)"
   ]
  },
  {
   "cell_type": "code",
   "execution_count": 10,
   "id": "778f7b7f",
   "metadata": {},
   "outputs": [
    {
     "data": {
      "text/plain": [
       "float"
      ]
     },
     "execution_count": 10,
     "metadata": {},
     "output_type": "execute_result"
    }
   ],
   "source": [
    "type(f)"
   ]
  },
  {
   "cell_type": "code",
   "execution_count": 12,
   "id": "7dd3bdc9",
   "metadata": {},
   "outputs": [
    {
     "name": "stdout",
     "output_type": "stream",
     "text": [
      "-2.5\n"
     ]
    }
   ],
   "source": [
    "print(1 + 2 * float(3) / 4 - 5)"
   ]
  },
  {
   "cell_type": "code",
   "execution_count": 14,
   "id": "78803d6d",
   "metadata": {},
   "outputs": [
    {
     "data": {
      "text/plain": [
       "str"
      ]
     },
     "execution_count": 14,
     "metadata": {},
     "output_type": "execute_result"
    }
   ],
   "source": [
    "# string conversions:\n",
    "sval = '123'\n",
    "type(sval)"
   ]
  },
  {
   "cell_type": "code",
   "execution_count": 18,
   "id": "ff43b2a1",
   "metadata": {},
   "outputs": [
    {
     "name": "stdout",
     "output_type": "stream",
     "text": [
      "<class 'int'>\n",
      "124\n"
     ]
    }
   ],
   "source": [
    "ival = int(sval)\n",
    "print(type(ival))\n",
    "print(ival+1)"
   ]
  },
  {
   "cell_type": "markdown",
   "id": "432f5ee5",
   "metadata": {},
   "source": [
    "# create our own functions"
   ]
  },
  {
   "cell_type": "code",
   "execution_count": 21,
   "id": "35c8c148",
   "metadata": {},
   "outputs": [
    {
     "name": "stdout",
     "output_type": "stream",
     "text": [
      "Dachshund\n",
      "Pitbull\n"
     ]
    }
   ],
   "source": [
    "# def: store\n",
    "def print_dogs ():\n",
    "    print('Dachshund')\n",
    "    print('Pitbull')\n",
    "# invoke: call\n",
    "print_dogs()"
   ]
  },
  {
   "cell_type": "code",
   "execution_count": 22,
   "id": "e0e85230",
   "metadata": {},
   "outputs": [],
   "source": [
    "# argument: value we pass into the function as its input when calling function\n",
    "# enables function to do different kinds of work\n",
    "# place in () after name of function\n",
    "# big = max ('Hello World')"
   ]
  },
  {
   "cell_type": "code",
   "execution_count": 24,
   "id": "3f3661af",
   "metadata": {},
   "outputs": [],
   "source": [
    "# PARAMETERS\n",
    "# variable used in the function definition\n",
    "# placeholder/handle that allows code in function to access arguments for\n",
    "# particular function invocation\n",
    "# parameter here is (lang). like a container/alias for later input.\n",
    "def greet(lang):\n",
    "    if lang == 'es':\n",
    "        print('Hola')\n",
    "    elif lang == 'fr':\n",
    "        print('Bonjour')\n",
    "    else:\n",
    "        print('Hello')"
   ]
  },
  {
   "cell_type": "code",
   "execution_count": 25,
   "id": "5477953d",
   "metadata": {},
   "outputs": [
    {
     "name": "stdout",
     "output_type": "stream",
     "text": [
      "Hello\n"
     ]
    }
   ],
   "source": [
    "greet('en')"
   ]
  },
  {
   "cell_type": "code",
   "execution_count": 26,
   "id": "d6459c0d",
   "metadata": {},
   "outputs": [
    {
     "name": "stdout",
     "output_type": "stream",
     "text": [
      "Bonjour\n"
     ]
    }
   ],
   "source": [
    "greet('fr')"
   ]
  },
  {
   "cell_type": "code",
   "execution_count": 27,
   "id": "d15cd3ca",
   "metadata": {},
   "outputs": [
    {
     "name": "stdout",
     "output_type": "stream",
     "text": [
      "Hola\n"
     ]
    }
   ],
   "source": [
    "greet('es')"
   ]
  },
  {
   "cell_type": "code",
   "execution_count": 28,
   "id": "4aace9cc",
   "metadata": {},
   "outputs": [
    {
     "name": "stdout",
     "output_type": "stream",
     "text": [
      "Hello Mom\n",
      "Hello Dad\n"
     ]
    }
   ],
   "source": [
    "# RETURN VALUES\n",
    "# \"return\" keyword: function takes its arguments, computes something and returns a value\n",
    "# to be used as value of the function call in the calling expression.\n",
    "def greet():\n",
    "    return 'Hello'\n",
    "print(greet(), 'Mom')\n",
    "print(greet(), 'Dad')"
   ]
  },
  {
   "cell_type": "code",
   "execution_count": 29,
   "id": "fd49e6a3",
   "metadata": {},
   "outputs": [],
   "source": [
    "def greet(lang):\n",
    "    if lang == 'es':\n",
    "        return 'Hola'\n",
    "    elif lang == 'fr':\n",
    "        return 'Bonjour'\n",
    "    else:\n",
    "        return 'Hello'"
   ]
  },
  {
   "cell_type": "code",
   "execution_count": 32,
   "id": "3430fa46",
   "metadata": {},
   "outputs": [
    {
     "name": "stdout",
     "output_type": "stream",
     "text": [
      "Hello Mom\n",
      "Bonjour Croissant\n",
      "Hola Espanol\n"
     ]
    }
   ],
   "source": [
    "print(greet('en'), 'Mom')\n",
    "print(greet('fr'), 'Croissant')\n",
    "print(greet('es'), 'Espanol')"
   ]
  },
  {
   "cell_type": "code",
   "execution_count": 33,
   "id": "41742b09",
   "metadata": {},
   "outputs": [
    {
     "name": "stdout",
     "output_type": "stream",
     "text": [
      "7\n"
     ]
    }
   ],
   "source": [
    "# multiple parameters/arguments\n",
    "def addtwo(a,b):\n",
    "    added = a + b\n",
    "    return added\n",
    "x = addtwo(4,3)\n",
    "print(x)"
   ]
  },
  {
   "cell_type": "code",
   "execution_count": null,
   "id": "5c96ddfd",
   "metadata": {},
   "outputs": [],
   "source": []
  }
 ],
 "metadata": {
  "kernelspec": {
   "display_name": "Python 3 (ipykernel)",
   "language": "python",
   "name": "python3"
  },
  "language_info": {
   "codemirror_mode": {
    "name": "ipython",
    "version": 3
   },
   "file_extension": ".py",
   "mimetype": "text/x-python",
   "name": "python",
   "nbconvert_exporter": "python",
   "pygments_lexer": "ipython3",
   "version": "3.10.6"
  }
 },
 "nbformat": 4,
 "nbformat_minor": 5
}
