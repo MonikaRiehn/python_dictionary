{
  "cells": [
    {
      "cell_type": "code",
      "execution_count": null,
      "id": "bf73cc8e",
      "metadata": {
        "id": "bf73cc8e",
        "outputId": "a3c834b4-2742-4328-89c6-41bb8eca98f7"
      },
      "outputs": [
        {
          "name": "stdout",
          "output_type": "stream",
          "text": [
            "5\n",
            "4\n",
            "3\n",
            "2\n",
            "1\n",
            "Blastoff\n",
            "0\n"
          ]
        }
      ],
      "source": [
        "# INDEFINITE LOOPS\n",
        "\n",
        "n = 5\n",
        "while n > 0:\n",
        "    print(n)\n",
        "    n = n - 1\n",
        "print('Blastoff')\n",
        "print(n)\n",
        "\n",
        "# beginning of loop ask a question that turns out as true or false. if true, then walk through the indented code.\n",
        "# loops contain an ITERATION VARIABLE that changes each time through a loop. Often go through a sequence of numbers.\n",
        "# loop 1: n = 5\n",
        "# then n = 5-1 = 4\n",
        "# then n = 4-1 = 3 and so on\n",
        "# when n = 0 the while question is no longer true -> print Blastoff, then print 0."
      ]
    },
    {
      "cell_type": "code",
      "execution_count": null,
      "id": "95a49188",
      "metadata": {
        "id": "95a49188"
      },
      "outputs": [],
      "source": [
        "# break statement:\n",
        "\n",
        "while True:\n",
        "    line = input('> ')\n",
        "    if line == 'done':\n",
        "        break\n",
        "    print(line)\n",
        "print('Done!')\n",
        "# the break statement ends the current loop and jumps to the statement immediately following the loop\n",
        "# if line equals \"done\" (= True), next line is break. from there it jumps to the next line after the loop, here \"print('done!')\", instead of printing the input \"line\"."
      ]
    },
    {
      "cell_type": "code",
      "execution_count": null,
      "id": "c9380546",
      "metadata": {
        "id": "c9380546"
      },
      "outputs": [],
      "source": [
        "# continue statement\n",
        "# ends the current interation and jumps BACK TO THE TOP of the loop and starts the next iteration\n",
        "\n",
        "while True:\n",
        "    line = input('> ')\n",
        "    if line [0] == '#':\n",
        "        continue\n",
        "    if line == 'done':\n",
        "        break\n",
        "    print(line)\n",
        "print('Done!')"
      ]
    }
  ],
  "metadata": {
    "kernelspec": {
      "display_name": "Python 3 (ipykernel)",
      "language": "python",
      "name": "python3"
    },
    "language_info": {
      "codemirror_mode": {
        "name": "ipython",
        "version": 3
      },
      "file_extension": ".py",
      "mimetype": "text/x-python",
      "name": "python",
      "nbconvert_exporter": "python",
      "pygments_lexer": "ipython3",
      "version": "3.10.6"
    },
    "colab": {
      "provenance": []
    }
  },
  "nbformat": 4,
  "nbformat_minor": 5
}