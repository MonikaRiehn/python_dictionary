{
  "cells": [
    {
      "cell_type": "markdown",
      "id": "984298e1",
      "metadata": {
        "id": "984298e1"
      },
      "source": [
        "# INDEFINITE LOOPS\n",
        "DO NOT RUN ALL!!! Every single loop has to be done/ended/exited"
      ]
    },
    {
      "cell_type": "code",
      "execution_count": null,
      "id": "f1d3e91e",
      "metadata": {
        "id": "f1d3e91e",
        "outputId": "43e45c44-f128-4f94-b77c-77213817ee86"
      },
      "outputs": [
        {
          "name": "stdout",
          "output_type": "stream",
          "text": [
            "5\n",
            "4\n",
            "3\n",
            "2\n",
            "1\n",
            "Blastoff\n",
            "0\n"
          ]
        }
      ],
      "source": [
        "n = 5\n",
        "while n > 0:\n",
        "    print(n)\n",
        "    n = n - 1\n",
        "print('Blastoff')\n",
        "print(n)\n",
        "\n",
        "# beginning of loop ask a question that turns out as true or false. if true, then walk through the indented code.\n",
        "# loops contain an ITERATION VARIABLE that changes each time through a loop. Often go through a sequence of numbers.\n",
        "# loop 1: n = 5\n",
        "# then n = 5-1 = 4\n",
        "# then n = 4-1 = 3 and so on\n",
        "# when n = 0 the while question is no longer true -> print Blastoff, then print 0."
      ]
    },
    {
      "cell_type": "markdown",
      "id": "b87eb002",
      "metadata": {
        "id": "b87eb002"
      },
      "source": [
        "# break statement"
      ]
    },
    {
      "cell_type": "code",
      "execution_count": null,
      "id": "4520b324",
      "metadata": {
        "id": "4520b324",
        "outputId": "125def21-57cb-4237-8a02-766c4642b291"
      },
      "outputs": [
        {
          "name": "stdout",
          "output_type": "stream",
          "text": [
            "> 1\n",
            "1\n",
            "> done\n",
            "Done!\n"
          ]
        }
      ],
      "source": [
        "while True:\n",
        "    line = input('> ')\n",
        "    if line == 'done':\n",
        "        break\n",
        "    print(line)\n",
        "print('Done!')"
      ]
    },
    {
      "cell_type": "markdown",
      "id": "77ecab89",
      "metadata": {
        "id": "77ecab89"
      },
      "source": [
        "the break statement ends the current loop and jumps to the statement\n",
        "immediately following the loop\n",
        "if line equals \"done\" (= True), next line is break. from there it jumps to the next line\n",
        "after the loop, here \"print('done!')\", instead of printing the input \"line\"."
      ]
    },
    {
      "cell_type": "markdown",
      "id": "5f757364",
      "metadata": {
        "id": "5f757364"
      },
      "source": [
        "# continue statement"
      ]
    },
    {
      "cell_type": "code",
      "execution_count": null,
      "id": "2091e116",
      "metadata": {
        "id": "2091e116",
        "outputId": "252b4ebd-c43d-4385-ec1d-7ecfa600e38b"
      },
      "outputs": [
        {
          "name": "stdout",
          "output_type": "stream",
          "text": [
            "> 8\n",
            "8\n",
            "> #\n",
            "> 5\n",
            "5\n",
            "> done\n",
            "Done!\n"
          ]
        }
      ],
      "source": [
        "# ends the current interation and jumps BACK TO THE TOP of the loop and starts the next iteration\n",
        "\n",
        "while True:\n",
        "    line = input('> ')\n",
        "    if line [0] == '#':\n",
        "        continue\n",
        "    if line == 'done':\n",
        "        break\n",
        "    print(line)\n",
        "print('Done!')"
      ]
    },
    {
      "cell_type": "markdown",
      "id": "0426ffee",
      "metadata": {
        "id": "0426ffee"
      },
      "source": [
        "# DEFINITE LOOPS\n",
        "Runs through a finite set of items, e.g. a list.\n",
        "Runs once for each item in a set using \"for\", i.e. an exact number of times.\n",
        "Question at beginning: Done? No, move on.\n",
        "\"definite loops iterate through the members of a set\".\n",
        "Iteration variable changes every iteration."
      ]
    },
    {
      "cell_type": "code",
      "execution_count": null,
      "id": "8772a93f",
      "metadata": {
        "id": "8772a93f",
        "outputId": "cc236283-5e34-4a09-a6e9-8099ce6ba0e5"
      },
      "outputs": [
        {
          "name": "stdout",
          "output_type": "stream",
          "text": [
            "5\n",
            "4\n",
            "3\n",
            "2\n",
            "1\n",
            "Blastoff\n"
          ]
        }
      ],
      "source": [
        "for i in [5, 4, 3, 2, 1]:\n",
        "    print(i)\n",
        "print('Blastoff')"
      ]
    },
    {
      "cell_type": "code",
      "execution_count": null,
      "id": "45001553",
      "metadata": {
        "id": "45001553",
        "outputId": "3b95fe22-0586-4939-c606-a3466ce44b91"
      },
      "outputs": [
        {
          "name": "stdout",
          "output_type": "stream",
          "text": [
            "Happy new year, mom\n",
            "Happy new year, dad\n",
            "Happy new year, sarah\n",
            "Happy new year, fiene\n",
            "Done!\n"
          ]
        }
      ],
      "source": [
        "friends = ['mom', 'dad', 'sarah', 'fiene']\n",
        "for friend in friends:\n",
        "    print(f'Happy new year, {friend}')\n",
        "print('Done!')\n",
        "\n",
        "# the iteration variable (here: \"friend\") iterates through the sequence (ordered set)\n",
        "# the block/body of code (here: \"print...\") is executed once for each value in the sequence\n",
        "# the iteration variable moves through all of the values IN the sequence"
      ]
    },
    {
      "cell_type": "markdown",
      "id": "2da988fc",
      "metadata": {
        "id": "2da988fc"
      },
      "source": [
        "# WHAT IS THE LARGEST NUMBER?"
      ]
    },
    {
      "cell_type": "code",
      "execution_count": null,
      "id": "2f01eead",
      "metadata": {
        "id": "2f01eead"
      },
      "outputs": [],
      "source": [
        "# 1. set some variables to initial values (e.g. x = 0)\n",
        "# 2. for thing in data: look for something or do something to each entry separately, updating a variable (e.g. x =+ 1)\n",
        "# 3. look at the variables"
      ]
    },
    {
      "cell_type": "code",
      "execution_count": null,
      "id": "5e0c20f3",
      "metadata": {
        "id": "5e0c20f3",
        "outputId": "bd50fb13-a3c4-40e8-b15b-b5d51144a335"
      },
      "outputs": [
        {
          "name": "stdout",
          "output_type": "stream",
          "text": [
            "Before the loop\n",
            "4\n",
            "65\n",
            "23\n",
            "7\n",
            "98\n",
            "13\n",
            "After the loop\n"
          ]
        }
      ],
      "source": [
        "print('Before the loop')\n",
        "for thing in [4, 65, 23, 7, 98, 13]:\n",
        "    print(thing)\n",
        "print('After the loop')"
      ]
    },
    {
      "cell_type": "code",
      "execution_count": null,
      "id": "6185e7fe",
      "metadata": {
        "id": "6185e7fe",
        "outputId": "b3c41c2e-58d7-47f5-dcd7-76880f6fc422"
      },
      "outputs": [
        {
          "name": "stdout",
          "output_type": "stream",
          "text": [
            "Before: -1\n",
            "4 4\n",
            "65 65\n",
            "65 23\n",
            "65 7\n",
            "98 98\n",
            "98 13\n",
            "After: 98\n",
            "The largest number is 98\n"
          ]
        }
      ],
      "source": [
        "largest_so_far = -1\n",
        "print('Before:', largest_so_far)\n",
        "for the_num in [4, 65, 23, 7, 98, 13]:\n",
        "    if the_num > largest_so_far:\n",
        "        largest_so_far = the_num\n",
        "    print(largest_so_far, the_num)\n",
        "print('After:', largest_so_far)\n",
        "print(f'The largest number is {largest_so_far}')"
      ]
    },
    {
      "cell_type": "code",
      "execution_count": null,
      "id": "80b08cd1",
      "metadata": {
        "id": "80b08cd1"
      },
      "outputs": [],
      "source": [
        "# create a variable that contains the largest number we have seen so far (start with -1 or 0).\n",
        "# if the current number we are looking at (next one in the list) is larger,\n",
        "# this is the new largest value we have seen so far. current number is assigned to\n",
        "# the iterating variable and replaces the last largest number, which is now overtaken."
      ]
    },
    {
      "cell_type": "markdown",
      "id": "28ada19e",
      "metadata": {
        "id": "28ada19e"
      },
      "source": [
        "# What is the smallest number?"
      ]
    },
    {
      "cell_type": "code",
      "execution_count": null,
      "id": "6b7a75f2",
      "metadata": {
        "id": "6b7a75f2",
        "outputId": "3c2fe0bc-a28e-4bf0-d2d5-e32f8eabf266"
      },
      "outputs": [
        {
          "name": "stdout",
          "output_type": "stream",
          "text": [
            "Before\n",
            "9 9\n",
            "9 41\n",
            "9 12\n",
            "3 3\n",
            "3 74\n",
            "3 15\n",
            "After 3\n"
          ]
        }
      ],
      "source": [
        "smallest = None\n",
        "print('Before')\n",
        "for value in [9, 41, 12, 3, 74, 15]:\n",
        "    if smallest is None:\n",
        "        smallest = value\n",
        "    elif value < smallest:\n",
        "        smallest = value\n",
        "    print(smallest, value)\n",
        "print('After', smallest)\n",
        "# we would need a number, that is larger than all in the list, but we do not know which that can\n",
        "# be. so we create the variable smallest.\n",
        "# the first time through the loop, smallest is None, so we take the first value in the list\n",
        "# to be the smallest.\n",
        "# is: is the same as, stronger than ==. 0 is 0.0 turns False\n",
        "# ==: equals. 0 == 0.0 turns True"
      ]
    },
    {
      "cell_type": "markdown",
      "id": "62251dd9",
      "metadata": {
        "id": "62251dd9"
      },
      "source": [
        "# COUNTING"
      ]
    },
    {
      "cell_type": "code",
      "execution_count": null,
      "id": "7c025cf9",
      "metadata": {
        "id": "7c025cf9",
        "outputId": "0ca37ca1-8693-4e74-e3f6-4ff6a1736e7a"
      },
      "outputs": [
        {
          "name": "stdout",
          "output_type": "stream",
          "text": [
            "Before 0\n",
            "1 9\n",
            "2 41\n",
            "3 12\n",
            "4 3\n",
            "5 74\n",
            "6 15\n",
            "After 6\n"
          ]
        }
      ],
      "source": [
        "zork = 0\n",
        "print ('Before', zork)\n",
        "for thing in [9, 41, 12, 3, 74, 15]:\n",
        "    zork = zork + 1\n",
        "    print (zork, thing)\n",
        "print('After', zork)\n",
        "\n",
        "# to count how many times we execute a loop/how many items are in the list, we create a COUNTER VARIABLE that starts at 0 and we add one to it each time through the loop.\n",
        "# see Angelas exercise \"5. average height\""
      ]
    },
    {
      "cell_type": "markdown",
      "id": "965afe5f",
      "metadata": {
        "id": "965afe5f"
      },
      "source": [
        "# SUMMING"
      ]
    },
    {
      "cell_type": "code",
      "execution_count": null,
      "id": "72210c75",
      "metadata": {
        "id": "72210c75",
        "outputId": "b7c48651-b803-4618-f398-1248ac638dcb"
      },
      "outputs": [
        {
          "name": "stdout",
          "output_type": "stream",
          "text": [
            "Before-zork 0\n",
            "9 9\n",
            "50 41\n",
            "62 12\n",
            "65 3\n",
            "139 74\n",
            "154 15\n",
            "After-zork 154\n"
          ]
        }
      ],
      "source": [
        "zork = 0\n",
        "print('Before-zork', zork)\n",
        "for thing in [9, 41, 12, 3, 74, 15]:\n",
        "    zork += thing\n",
        "    print(zork, thing)\n",
        "print('After-zork', zork)"
      ]
    },
    {
      "cell_type": "markdown",
      "id": "c52f563e",
      "metadata": {
        "id": "c52f563e"
      },
      "source": [
        "# AVERAGE"
      ]
    },
    {
      "cell_type": "code",
      "execution_count": null,
      "id": "2f0e24f6",
      "metadata": {
        "id": "2f0e24f6",
        "outputId": "bd797fc8-5e6f-4510-95e7-80842e268158"
      },
      "outputs": [
        {
          "name": "stdout",
          "output_type": "stream",
          "text": [
            "Before 0 0\n",
            "1 9 9\n",
            "2 50 41\n",
            "3 62 12\n",
            "4 65 3\n",
            "5 139 74\n",
            "6 154 15\n",
            "After 6 154 25.67\n"
          ]
        }
      ],
      "source": [
        "# combines the counting and sum patterns and divides when the loop is done.\n",
        "count = 0\n",
        "sum = 0\n",
        "print('Before', count, sum)\n",
        "for value in [9, 41, 12, 3, 74, 15]:\n",
        "    count += 1\n",
        "    sum += value\n",
        "    print(count, sum, value)\n",
        "print('After', count, sum, round(sum/count, 2))"
      ]
    },
    {
      "cell_type": "markdown",
      "id": "0b402897",
      "metadata": {
        "id": "0b402897"
      },
      "source": [
        "# FILTER"
      ]
    },
    {
      "cell_type": "code",
      "execution_count": null,
      "id": "9d1bfbba",
      "metadata": {
        "id": "9d1bfbba",
        "outputId": "e5804276-0eb0-42b2-bb6b-f82910914f8b"
      },
      "outputs": [
        {
          "name": "stdout",
          "output_type": "stream",
          "text": [
            "Before\n",
            "Large number 41\n",
            "Large number 74\n",
            "After\n"
          ]
        }
      ],
      "source": [
        "# use an if-statement in the loop to chatch or filter a certain value\n",
        "print('Before')\n",
        "for value in [9, 41, 12, 3, 74, 15]:\n",
        "    if value > 20:\n",
        "        print('Large number', value)\n",
        "print('After')"
      ]
    },
    {
      "cell_type": "code",
      "execution_count": null,
      "id": "1ccb3452",
      "metadata": {
        "id": "1ccb3452",
        "outputId": "3a43471c-a0c3-4756-c146-85b37ecf016a"
      },
      "outputs": [
        {
          "name": "stdout",
          "output_type": "stream",
          "text": [
            "Enter a number: 158\n",
            "158.0\n",
            "Enter a number: 85\n",
            "85.0\n",
            "Enter a number: done\n",
            "You entered 2 numbers, which sum up to 243.0 with an average of 121.5\n"
          ]
        }
      ],
      "source": [
        "num = 0\n",
        "tot = 0.0\n",
        "while True:\n",
        "    sval = input('Enter a number: ')\n",
        "    if sval =='done':\n",
        "        break\n",
        "    try:\n",
        "        fval = float(sval) # danger zone\n",
        "    except:\n",
        "        print('Invalid Input')\n",
        "        continue # go back up to top of loop\n",
        "    print(fval)\n",
        "    num += 1\n",
        "    tot += fval\n",
        "print(f'You entered {num} numbers, which sum up to {tot} with an average of {tot/num}')"
      ]
    }
  ],
  "metadata": {
    "kernelspec": {
      "display_name": "Python 3 (ipykernel)",
      "language": "python",
      "name": "python3"
    },
    "language_info": {
      "codemirror_mode": {
        "name": "ipython",
        "version": 3
      },
      "file_extension": ".py",
      "mimetype": "text/x-python",
      "name": "python",
      "nbconvert_exporter": "python",
      "pygments_lexer": "ipython3",
      "version": "3.10.6"
    },
    "colab": {
      "provenance": []
    }
  },
  "nbformat": 4,
  "nbformat_minor": 5
}