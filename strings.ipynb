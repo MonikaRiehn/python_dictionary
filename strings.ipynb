{
  "cells": [
    {
      "cell_type": "markdown",
      "metadata": {
        "id": "hDl4bLBNbqTM"
      },
      "source": [
        "# Strings (text sequence type, str)\n",
        "\n",
        "Textual data in Python is handled with str objects, or strings. Strings are immutable sequences of Unicode code points. String literals can be written in single quotes('allows embedded \"double\" quotes'), double quotes (\"allows embedded 'single' quotes\") or triple quoted ('''Three single quotes''', \"\"\"Three double quotes\"\"\"), which may span multiple lines. Strings may also be created from other objects using the str constructor.\n",
        "\n",
        "# String Methods\n",
        "Strings implement all of the common sequence operations, along with the additional methods described in the documentation.\n",
        "\n",
        "# Method vs. Function\n",
        "Both methods and functions perform tasks and may return some value. But the difference lies in the fact that methods are ‘associated’ with objects, while functions are not."
      ]
    },
    {
      "cell_type": "code",
      "execution_count": null,
      "metadata": {
        "colab": {
          "base_uri": "https://localhost:8080/"
        },
        "id": "NzbzVGTx9_Lx",
        "outputId": "64f5c40d-6fbc-4e02-e2eb-1c37ca126eef"
      },
      "outputs": [
        {
          "name": "stdout",
          "output_type": "stream",
          "text": [
            "a\n"
          ]
        }
      ],
      "source": [
        "fruit = 'banana'\n",
        "letter = fruit[1]\n",
        "print(letter)"
      ]
    },
    {
      "cell_type": "code",
      "execution_count": null,
      "metadata": {
        "colab": {
          "base_uri": "https://localhost:8080/"
        },
        "id": "TNiVqYoM-e4Y",
        "outputId": "6ac19548-1c62-4d48-bbe9-134c8f0fee56"
      },
      "outputs": [
        {
          "name": "stdout",
          "output_type": "stream",
          "text": [
            "6\n"
          ]
        }
      ],
      "source": [
        "fruit = 'banana'\n",
        "print(len(fruit))"
      ]
    },
    {
      "cell_type": "markdown",
      "metadata": {
        "id": "YD26q4Pv_jY6"
      },
      "source": [
        "With while-loop."
      ]
    },
    {
      "cell_type": "code",
      "execution_count": null,
      "metadata": {
        "colab": {
          "base_uri": "https://localhost:8080/"
        },
        "id": "mfOEpmjW-o17",
        "outputId": "29c2fca0-52a8-4756-daca-d511ef2df92f"
      },
      "outputs": [
        {
          "name": "stdout",
          "output_type": "stream",
          "text": [
            "0 b\n",
            "1 a\n",
            "2 n\n",
            "3 a\n",
            "4 n\n",
            "5 a\n"
          ]
        }
      ],
      "source": [
        "fruit = 'banana'\n",
        "index = 0\n",
        "while index < len(fruit):\n",
        "    letter = fruit[index]\n",
        "    print(index, letter)\n",
        "    index = index + 1"
      ]
    },
    {
      "cell_type": "markdown",
      "metadata": {
        "id": "c4MtEwdN_nTH"
      },
      "source": [
        "Better with for-loop, less code, less mistakes"
      ]
    },
    {
      "cell_type": "code",
      "execution_count": null,
      "metadata": {
        "colab": {
          "base_uri": "https://localhost:8080/"
        },
        "id": "72fCeX3Q_Bph",
        "outputId": "11c9f20b-691d-4b03-d4fe-827666c964f6"
      },
      "outputs": [
        {
          "name": "stdout",
          "output_type": "stream",
          "text": [
            "b\n",
            "a\n",
            "n\n",
            "a\n",
            "n\n",
            "a\n"
          ]
        }
      ],
      "source": [
        "fruit = 'banana'\n",
        "for letter in fruit:\n",
        "    print(letter)"
      ]
    },
    {
      "cell_type": "markdown",
      "metadata": {
        "id": "_WSypkIW__ST"
      },
      "source": [
        "Counting"
      ]
    },
    {
      "cell_type": "code",
      "execution_count": null,
      "metadata": {
        "colab": {
          "base_uri": "https://localhost:8080/"
        },
        "id": "-DWZeC6i_5Ke",
        "outputId": "727f7080-fc83-4d21-f150-26c5f5d5e881"
      },
      "outputs": [
        {
          "name": "stdout",
          "output_type": "stream",
          "text": [
            "3\n"
          ]
        }
      ],
      "source": [
        "word = 'banana'\n",
        "count = 0\n",
        "for letter in word:\n",
        "    if letter == 'a':\n",
        "        count = count + 1\n",
        "print(count)"
      ]
    },
    {
      "cell_type": "markdown",
      "metadata": {
        "id": "7dQeEXgREFyP"
      },
      "source": [
        "Slicing"
      ]
    },
    {
      "cell_type": "code",
      "execution_count": null,
      "metadata": {
        "colab": {
          "base_uri": "https://localhost:8080/"
        },
        "id": "QDOG0kHWARUp",
        "outputId": "98cd6cac-e564-4342-8908-98bef263f36b"
      },
      "outputs": [
        {
          "name": "stdout",
          "output_type": "stream",
          "text": [
            "Mont\n",
            "P\n",
            "Python\n",
            "Mo\n",
            "thon\n",
            "Monty Python\n"
          ]
        }
      ],
      "source": [
        "s = 'Monty Python'\n",
        "\n",
        "# \"s sub zero through four\": start at 0, go up to, but do not incluce 4\"\n",
        "print(s[0:4])\n",
        "print(s[6:7])\n",
        "print(s[6:20])\n",
        "\n",
        "# \"s sub nothing through 2\": everything up to, but not including 2\"\n",
        "print(s[:2])\n",
        "print(s[8:])\n",
        "# whole string\n",
        "print(s[:])"
      ]
    },
    {
      "cell_type": "markdown",
      "metadata": {
        "id": "sMGnIvZgEKDv"
      },
      "source": [
        "String Concatenation"
      ]
    },
    {
      "cell_type": "code",
      "execution_count": null,
      "metadata": {
        "colab": {
          "base_uri": "https://localhost:8080/"
        },
        "id": "aUgu5Zh3CXRl",
        "outputId": "2d557deb-9b7c-4d02-ae60-f50556c19cf0"
      },
      "outputs": [
        {
          "name": "stdout",
          "output_type": "stream",
          "text": [
            "Hello There\n"
          ]
        }
      ],
      "source": [
        "a = 'Hello'\n",
        "b = a + ' ' + 'There'\n",
        "print(b)"
      ]
    },
    {
      "cell_type": "markdown",
      "metadata": {
        "id": "RUYEcXAfFaEn"
      },
      "source": [
        "Using in as logical operator"
      ]
    },
    {
      "cell_type": "code",
      "execution_count": null,
      "metadata": {
        "colab": {
          "base_uri": "https://localhost:8080/"
        },
        "id": "TtzKQ733EboT",
        "outputId": "59f99ee7-ef5c-4144-bf26-1d65bedd02c3"
      },
      "outputs": [
        {
          "data": {
            "text/plain": [
              "True"
            ]
          },
          "execution_count": 20,
          "metadata": {},
          "output_type": "execute_result"
        }
      ],
      "source": [
        "fruit = 'banana'\n",
        "'n' in fruit"
      ]
    },
    {
      "cell_type": "code",
      "execution_count": null,
      "metadata": {
        "colab": {
          "base_uri": "https://localhost:8080/"
        },
        "id": "jgOVbFQJFDEV",
        "outputId": "d21c6226-1445-4919-a272-874dadea8cd9"
      },
      "outputs": [
        {
          "data": {
            "text/plain": [
              "False"
            ]
          },
          "execution_count": 21,
          "metadata": {},
          "output_type": "execute_result"
        }
      ],
      "source": [
        "fruit = 'banana'\n",
        "'m' in fruit"
      ]
    },
    {
      "cell_type": "code",
      "execution_count": null,
      "metadata": {
        "colab": {
          "base_uri": "https://localhost:8080/"
        },
        "id": "nUFtNdVRFQND",
        "outputId": "dd4ffe0b-32cf-4d2e-eb1d-294c1ecd1157"
      },
      "outputs": [
        {
          "name": "stdout",
          "output_type": "stream",
          "text": [
            "Got the a!\n"
          ]
        }
      ],
      "source": [
        "fruit = 'banana'\n",
        "if 'a' in fruit:\n",
        "    print('Got the a!')"
      ]
    },
    {
      "cell_type": "markdown",
      "metadata": {
        "id": "0doBK7X5Fmdk"
      },
      "source": [
        "String comparison"
      ]
    },
    {
      "cell_type": "code",
      "execution_count": null,
      "metadata": {
        "colab": {
          "base_uri": "https://localhost:8080/"
        },
        "id": "nAMCR7CKFYZ8",
        "outputId": "5f4a3fed-2bdd-4dd3-c1fa-c4d2c58d4507"
      },
      "outputs": [
        {
          "name": "stdout",
          "output_type": "stream",
          "text": [
            "Enter a fruit: kiwi\n",
            "Your word, kiwi, comes after banana.\n"
          ]
        }
      ],
      "source": [
        "word = input('Enter a fruit: ')\n",
        "if word < 'banana':\n",
        "    print('Your word, ' + word + ', comes before banana.')\n",
        "elif word > 'banana':\n",
        "    print('Your word, ' + word + ', comes after banana.')\n",
        "else:\n",
        "    print('All right, banana.')"
      ]
    },
    {
      "cell_type": "markdown",
      "metadata": {
        "id": "XZvCydChHS6d"
      },
      "source": [
        "String Library\n",
        "Strings are objects, and objects have methods (built-in capabilities)"
      ]
    },
    {
      "cell_type": "code",
      "execution_count": null,
      "metadata": {
        "colab": {
          "base_uri": "https://localhost:8080/"
        },
        "id": "Pdw3TGG2Fzef",
        "outputId": "49840ce0-b174-495b-cc17-0862914a2467"
      },
      "outputs": [
        {
          "name": "stdout",
          "output_type": "stream",
          "text": [
            "hello bob\n",
            "Hello Bob\n",
            "hi there\n"
          ]
        }
      ],
      "source": [
        "greet = 'Hello Bob'\n",
        "# greet is a string-object. .lower says: hey string, make a lowercase version of yourself.\n",
        "# string is not changed:\n",
        "zap = greet.lower()\n",
        "print(zap)\n",
        "print(greet)\n",
        "# method call is kind of special function call\n",
        "# .X( ) is called object-oriented\n",
        "# len(X) is not object-oriented.\n",
        "print('Hi There'.lower())"
      ]
    },
    {
      "cell_type": "code",
      "execution_count": null,
      "metadata": {
        "colab": {
          "base_uri": "https://localhost:8080/"
        },
        "id": "qMokm0WaH651",
        "outputId": "3a7e89d0-f6e5-4a34-ffc2-872f5461b184"
      },
      "outputs": [
        {
          "data": {
            "text/plain": [
              "str"
            ]
          },
          "execution_count": 34,
          "metadata": {},
          "output_type": "execute_result"
        }
      ],
      "source": [
        "stuff ='Hello World'\n",
        "#type(object)\n",
        "type(stuff)"
      ]
    },
    {
      "cell_type": "code",
      "execution_count": null,
      "metadata": {
        "colab": {
          "base_uri": "https://localhost:8080/"
        },
        "id": "TSSuEGAOKM-q",
        "outputId": "689331eb-ea6f-4148-b87a-df324346ab7b"
      },
      "outputs": [
        {
          "data": {
            "text/plain": [
              "['__add__',\n",
              " '__class__',\n",
              " '__contains__',\n",
              " '__delattr__',\n",
              " '__dir__',\n",
              " '__doc__',\n",
              " '__eq__',\n",
              " '__format__',\n",
              " '__ge__',\n",
              " '__getattribute__',\n",
              " '__getitem__',\n",
              " '__getnewargs__',\n",
              " '__gt__',\n",
              " '__hash__',\n",
              " '__init__',\n",
              " '__init_subclass__',\n",
              " '__iter__',\n",
              " '__le__',\n",
              " '__len__',\n",
              " '__lt__',\n",
              " '__mod__',\n",
              " '__mul__',\n",
              " '__ne__',\n",
              " '__new__',\n",
              " '__reduce__',\n",
              " '__reduce_ex__',\n",
              " '__repr__',\n",
              " '__rmod__',\n",
              " '__rmul__',\n",
              " '__setattr__',\n",
              " '__sizeof__',\n",
              " '__str__',\n",
              " '__subclasshook__',\n",
              " 'capitalize',\n",
              " 'casefold',\n",
              " 'center',\n",
              " 'count',\n",
              " 'encode',\n",
              " 'endswith',\n",
              " 'expandtabs',\n",
              " 'find',\n",
              " 'format',\n",
              " 'format_map',\n",
              " 'index',\n",
              " 'isalnum',\n",
              " 'isalpha',\n",
              " 'isascii',\n",
              " 'isdecimal',\n",
              " 'isdigit',\n",
              " 'isidentifier',\n",
              " 'islower',\n",
              " 'isnumeric',\n",
              " 'isprintable',\n",
              " 'isspace',\n",
              " 'istitle',\n",
              " 'isupper',\n",
              " 'join',\n",
              " 'ljust',\n",
              " 'lower',\n",
              " 'lstrip',\n",
              " 'maketrans',\n",
              " 'partition',\n",
              " 'replace',\n",
              " 'rfind',\n",
              " 'rindex',\n",
              " 'rjust',\n",
              " 'rpartition',\n",
              " 'rsplit',\n",
              " 'rstrip',\n",
              " 'split',\n",
              " 'splitlines',\n",
              " 'startswith',\n",
              " 'strip',\n",
              " 'swapcase',\n",
              " 'title',\n",
              " 'translate',\n",
              " 'upper',\n",
              " 'zfill']"
            ]
          },
          "execution_count": 36,
          "metadata": {},
          "output_type": "execute_result"
        }
      ],
      "source": [
        "# lists all methods for strings\n",
        "stuff = 'Hello World'\n",
        "dir(stuff)"
      ]
    },
    {
      "cell_type": "markdown",
      "metadata": {
        "id": "gqQ8POZsKaXB"
      },
      "source": [
        "# Most important string methods\n",
        "str.capitalize()\n",
        "str.center(width[, fillchar])\n",
        "str.endswith(suffix[, start[, end]])\n",
        "str.find(sub[, start[, end]])\n",
        "str.lstrip([chars])\n",
        "str.replace(old, new[, count])\n",
        "str.lower()\n",
        "str.rstrip([chars])\n",
        "str.strip([chars])\n",
        "str.upper()"
      ]
    },
    {
      "cell_type": "code",
      "execution_count": null,
      "metadata": {
        "id": "zV5srQUlbqTv",
        "outputId": "1d802b88-4924-4d5b-d013-c1282e46c98a"
      },
      "outputs": [
        {
          "name": "stdout",
          "output_type": "stream",
          "text": [
            "2\n"
          ]
        }
      ],
      "source": [
        "# .find() finds first occurance of wanted string\n",
        "fruit = 'banana'\n",
        "pos = fruit.find('na')\n",
        "print(pos)"
      ]
    },
    {
      "cell_type": "code",
      "execution_count": null,
      "metadata": {
        "id": "vlTCZX5kbqTw",
        "outputId": "8e522d9c-be2c-4de3-958a-9ea2720dcef1"
      },
      "outputs": [
        {
          "name": "stdout",
          "output_type": "stream",
          "text": [
            "-1\n"
          ]
        }
      ],
      "source": [
        "na = fruit.find('z')\n",
        "print(na)"
      ]
    },
    {
      "cell_type": "code",
      "execution_count": null,
      "metadata": {
        "id": "ESul1_WvbqTx",
        "outputId": "007b41b7-7b37-468e-d90b-71306accb966"
      },
      "outputs": [
        {
          "name": "stdout",
          "output_type": "stream",
          "text": [
            "HELLO BOB\n"
          ]
        }
      ],
      "source": [
        "# Making everything UPPERCASE\n",
        "greet = 'Hello Bob'\n",
        "nnn = greet.upper()\n",
        "print(nnn)"
      ]
    },
    {
      "cell_type": "code",
      "execution_count": null,
      "metadata": {
        "id": "DdrOFG5tbqTx",
        "outputId": "89e15cf6-5e6d-4502-eac7-df8a160a8683"
      },
      "outputs": [
        {
          "name": "stdout",
          "output_type": "stream",
          "text": [
            "hello bob\n"
          ]
        }
      ],
      "source": [
        "www = greet.lower()\n",
        "print(www)"
      ]
    },
    {
      "cell_type": "code",
      "execution_count": null,
      "metadata": {
        "id": "MrNl0ruObqTy",
        "outputId": "a2fb870f-6060-475b-b8b0-1de75e664962"
      },
      "outputs": [
        {
          "name": "stdout",
          "output_type": "stream",
          "text": [
            "Hello Jane\n"
          ]
        }
      ],
      "source": [
        "# Search and Replace\n",
        "# replace() replaces ALL occurrences of the search string with the replacement string\n",
        "greet = 'Hello Bob'\n",
        "nstr = greet.replace('Bob', 'Jane')\n",
        "print(nstr)"
      ]
    },
    {
      "cell_type": "code",
      "execution_count": null,
      "metadata": {
        "id": "M80Bn-BvbqTz",
        "outputId": "c5f28a9b-0e2e-405e-9a62-50f93558c1e3"
      },
      "outputs": [
        {
          "name": "stdout",
          "output_type": "stream",
          "text": [
            "Hellx Bxb\n"
          ]
        }
      ],
      "source": [
        "nstr = greet.replace('o','x')\n",
        "print(nstr)"
      ]
    },
    {
      "cell_type": "code",
      "execution_count": 1,
      "metadata": {
        "colab": {
          "base_uri": "https://localhost:8080/",
          "height": 35
        },
        "id": "h0N17H5obqT0",
        "outputId": "28197fc1-d41d-4bb4-da37-f6d0a37cb3f3"
      },
      "outputs": [
        {
          "output_type": "execute_result",
          "data": {
            "text/plain": [
              "'Hello Bob    '"
            ],
            "application/vnd.google.colaboratory.intrinsic+json": {
              "type": "string"
            }
          },
          "metadata": {},
          "execution_count": 1
        }
      ],
      "source": [
        "# Stripping Whitespace\n",
        "# removes whitespace from beginning and/or end\n",
        "greet = '    Hello Bob    '\n",
        "greet.lstrip()"
      ]
    },
    {
      "cell_type": "code",
      "execution_count": null,
      "metadata": {
        "id": "DZMsyK9xbqT1",
        "outputId": "8270f787-64ba-4e39-f15b-b04567164f63"
      },
      "outputs": [
        {
          "data": {
            "text/plain": [
              "'Hello Bob'"
            ]
          },
          "execution_count": 12,
          "metadata": {},
          "output_type": "execute_result"
        }
      ],
      "source": [
        "greet = 'Hello Bob    '\n",
        "greet.rstrip()"
      ]
    },
    {
      "cell_type": "code",
      "execution_count": null,
      "metadata": {
        "id": "G68TmpX-bqT2",
        "outputId": "b1640e7f-fb27-4a64-df26-d443e5077c73"
      },
      "outputs": [
        {
          "data": {
            "text/plain": [
              "'Hello Bob'"
            ]
          },
          "execution_count": 13,
          "metadata": {},
          "output_type": "execute_result"
        }
      ],
      "source": [
        "greet = '   Hello Bob   '\n",
        "greet.strip()"
      ]
    },
    {
      "cell_type": "code",
      "execution_count": null,
      "metadata": {
        "id": "dSk88d9jbqT2",
        "outputId": "93f8828a-b71a-4a01-b31e-04a176f5b4ce"
      },
      "outputs": [
        {
          "data": {
            "text/plain": [
              "True"
            ]
          },
          "execution_count": 17,
          "metadata": {},
          "output_type": "execute_result"
        }
      ],
      "source": [
        "# Prefixes\n",
        "line = 'Please have a nice day'\n",
        "line.startswith('Please')"
      ]
    },
    {
      "cell_type": "code",
      "execution_count": null,
      "metadata": {
        "id": "zCLsX9R_bqT3",
        "outputId": "75e72b56-7878-48b1-f248-0158d620dd0a"
      },
      "outputs": [
        {
          "data": {
            "text/plain": [
              "False"
            ]
          },
          "execution_count": 18,
          "metadata": {},
          "output_type": "execute_result"
        }
      ],
      "source": [
        "line = 'Please have a nice day'\n",
        "line.startswith('p')"
      ]
    },
    {
      "cell_type": "code",
      "execution_count": null,
      "metadata": {
        "id": "fs-QWpcWbqT4",
        "outputId": "790fc717-8025-4810-be80-18fb866b5767"
      },
      "outputs": [
        {
          "name": "stdout",
          "output_type": "stream",
          "text": [
            "19\n",
            "29\n",
            "gmail.com\n"
          ]
        }
      ],
      "source": [
        "# Parsing and Extracting\n",
        "data = 'From max.mustermann@gmail.com Sat Jan 7 10:32:02 2009'\n",
        "atpos = data.find('@')\n",
        "print(atpos)\n",
        "sppos = data.find(' ', atpos)\n",
        "# find a space ' ', starting at the @ (atpos).\n",
        "# output shows that mail server starts at 20 until 28 (before 29, which is position of whitespace)\n",
        "print(sppos)\n",
        "# combine information to find host: sub atpos plus 1, up to but not including sppos\n",
        "host = data[atpos+1 : sppos]\n",
        "print(host)"
      ]
    },
    {
      "cell_type": "markdown",
      "metadata": {
        "id": "GqtPskgLbqT4"
      },
      "source": [
        "# Exercise"
      ]
    },
    {
      "cell_type": "code",
      "execution_count": null,
      "metadata": {
        "id": "enazUcvybqT5",
        "outputId": "f27e3205-40d6-412d-c82c-d97cf7efd0fc"
      },
      "outputs": [
        {
          "name": "stdout",
          "output_type": "stream",
          "text": [
            "18\n",
            "0.8475\n"
          ]
        }
      ],
      "source": [
        "str = 'X-DSPAM-Confidence: 0.8475'\n",
        "# use find and string slicing to extract the portion of the string after the colon character and \n",
        "# then use the float function to convert the extracted string into a floating point number.\n",
        "colonpos = str.find(':')\n",
        "print(colonpos)\n",
        "portion = str[colonpos+1:] # from position of colon plus one till the end of string\n",
        "value = float(portion)\n",
        "print(value)"
      ]
    }
  ],
  "metadata": {
    "colab": {
      "provenance": []
    },
    "kernelspec": {
      "display_name": "Python 3 (ipykernel)",
      "language": "python",
      "name": "python3"
    },
    "language_info": {
      "codemirror_mode": {
        "name": "ipython",
        "version": 3
      },
      "file_extension": ".py",
      "mimetype": "text/x-python",
      "name": "python",
      "nbconvert_exporter": "python",
      "pygments_lexer": "ipython3",
      "version": "3.10.6"
    }
  },
  "nbformat": 4,
  "nbformat_minor": 0
}